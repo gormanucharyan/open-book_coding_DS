{
 "cells": [
  {
   "metadata": {
    "ExecuteTime": {
     "end_time": "2024-06-05T12:59:48.025315Z",
     "start_time": "2024-06-05T12:59:39.927704Z"
    }
   },
   "cell_type": "code",
   "source": "!pip install word2number -q",
   "id": "975000aaa8c8e3a3",
   "outputs": [
    {
     "name": "stderr",
     "output_type": "stream",
     "text": [
      "\n",
      "[notice] A new release of pip is available: 23.2.1 -> 24.0\n",
      "[notice] To update, run: python.exe -m pip install --upgrade pip\n"
     ]
    }
   ],
   "execution_count": 2
  },
  {
   "metadata": {
    "ExecuteTime": {
     "end_time": "2024-06-05T13:58:42.768072Z",
     "start_time": "2024-06-05T13:58:41.617592Z"
    }
   },
   "cell_type": "code",
   "source": [
    "import pickle\n",
    "import sqlite3\n",
    "import pandas as pd\n",
    "\n",
    "from word2number import w2n\n",
    "\n"
   ],
   "id": "initial_id",
   "outputs": [],
   "execution_count": 2
  },
  {
   "metadata": {
    "ExecuteTime": {
     "end_time": "2024-06-05T13:58:43.244412Z",
     "start_time": "2024-06-05T13:58:43.213459Z"
    }
   },
   "cell_type": "code",
   "source": [
    "\n",
    "class DataExtractor:\n",
    "    def __init__(self, invoice_file, expired_invoices_file):\n",
    "        self.invoice_file = invoice_file\n",
    "        self.expired_invoices_file = expired_invoices_file\n",
    "        self.__invoices = None\n",
    "        self.__expired_invoices = None\n",
    "\n",
    "    def load_data(self):\n",
    "        with open(self.invoice_file, 'rb') as file:\n",
    "            self.__invoices = pickle.load(file)\n",
    "\n",
    "        with open(self.expired_invoices_file, 'r') as file:\n",
    "            self.__expired_invoices = file.readlines()\n",
    "\n",
    "    def transform_data(self):\n",
    "        \n",
    "        filtered_data = [dct for dct in self.__invoices if 'items' in dct]\n",
    "        ids = []\n",
    "        created_on = []\n",
    "        invoiceitem_ids = []\n",
    "        invoiceitem_name = []\n",
    "        unite_price = []\n",
    "        types = []\n",
    "        quantity = []\n",
    "        \n",
    "        for inv in filtered_data:\n",
    "            ids.append(inv['id'])\n",
    "            created_on.append(inv['created_on'])\n",
    "            for item in inv['items']:\n",
    "                invoiceitem_ids.append(item['item']['id'])\n",
    "                invoiceitem_name.append(item['item']['name'])\n",
    "                unite_price.append(item['item']['unit_price'])\n",
    "                types.append(item['item']['type'])\n",
    "                quantity.append(item['quantity'])\n",
    "                ids.append(inv['id'])\n",
    "                created_on.append(inv['created_on'])\n",
    "                \n",
    "            ids.pop()\n",
    "            created_on.pop()\n",
    "            \n",
    "        columns = {\n",
    "            'invoice_id': pd.Series(ids, dtype='object'),\n",
    "            'created_on': pd.Series(created_on, dtype='object'),\n",
    "            'invoiceitem_id': pd.Series(invoiceitem_ids, dtype='object'),\n",
    "            'invoiceitem_name': pd.Series(invoiceitem_name, dtype='str'),\n",
    "            'type': pd.Series(types, dtype='str'),\n",
    "            'unit_price': pd.Series(unite_price, dtype='object'),\n",
    "            'quantity': pd.Series(quantity, dtype='object'),\n",
    "        }\n",
    "        \n",
    "        df = pd.DataFrame(columns)\n",
    "        df['created_on'] = pd.to_datetime(df['created_on'], errors='coerce')\n",
    "        \n",
    "        def conv_to_int(value):\n",
    "            try:\n",
    "                value = str(value).replace('O', '0')\n",
    "                return int(value)\n",
    "            except ValueError:\n",
    "                print(f\"Error: Cannot convert id of invoice'{value}' to int\")\n",
    "                return value\n",
    "        \n",
    "        df['invoice_id'] = df['invoice_id'].apply(conv_to_int)\n",
    "        \n",
    "        def conv_txt_num(text):\n",
    "            try:\n",
    "                return w2n.word_to_num(text)\n",
    "            except ValueError:\n",
    "                return text\n",
    "\n",
    "        df['quantity'] = df['quantity'].apply(conv_txt_num)\n",
    "        \n",
    "        df['invoiceitem_id'] = df['invoiceitem_id'].astype(int)\n",
    "        df['invoiceitem_name'] = df['invoiceitem_name'].astype(str)\n",
    "        df['type'] = df['type'].map({'0': 'Material', '1': 'Equipment', '2': 'Service', '3': 'Other'})\n",
    "        df['type'] = df['type'].astype(str)\n",
    "        df['unit_price'] = df['unit_price'].astype(int)\n",
    "        df['total_price'] = df['unit_price'] * df['quantity']\n",
    "        sum_total_price = df.groupby('invoice_id')['total_price'].transform('sum')\n",
    "        df['percentage_in_invoice'] = df['total_price'] / sum_total_price\n",
    "        df['expired'] = df['invoice_id'].isin(self.__expired_invoices)\n",
    "      \n",
    "        df = df.sort_values(by=['invoice_id', 'invoiceitem_id'], ascending=[True, True])\n",
    "\n",
    "        return df\n",
    "     \n",
    "    def invoices(self):\n",
    "         if self.__invoices is None:\n",
    "             return self.load_data()\n",
    "         \n",
    "         return self.__invoices\n",
    "    \n",
    "    def expired_invoices(self):\n",
    "        return self.expired_invoices()\n",
    "    \n",
    "data_extractor = DataExtractor('invoices_new.pkl', 'expired_invoices.txt')\n",
    "data_extractor.load_data()\n",
    "data = data_extractor.transform_data()\n",
    "\n"
   ],
   "id": "dc79838424fd08ee",
   "outputs": [],
   "execution_count": 3
  },
  {
   "metadata": {
    "ExecuteTime": {
     "end_time": "2024-06-05T13:59:44.670810Z",
     "start_time": "2024-06-05T13:59:44.653514Z"
    }
   },
   "cell_type": "code",
   "source": "data.to_csv('invoices_new_dataframe.csv', index=False)",
   "id": "6d7edccd00317483",
   "outputs": [],
   "execution_count": 7
  }
 ],
 "metadata": {
  "kernelspec": {
   "display_name": "Python 3",
   "language": "python",
   "name": "python3"
  },
  "language_info": {
   "codemirror_mode": {
    "name": "ipython",
    "version": 2
   },
   "file_extension": ".py",
   "mimetype": "text/x-python",
   "name": "python",
   "nbconvert_exporter": "python",
   "pygments_lexer": "ipython2",
   "version": "2.7.6"
  }
 },
 "nbformat": 4,
 "nbformat_minor": 5
}
